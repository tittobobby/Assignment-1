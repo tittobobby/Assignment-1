{
 "cells": [
  {
   "cell_type": "code",
   "execution_count": 29,
   "id": "05adf011",
   "metadata": {},
   "outputs": [
    {
     "name": "stdout",
     "output_type": "stream",
     "text": [
      "Fibonacci series between 0 to 50 is given below :\n",
      "1 1 2 3 5 8 13 21 34 "
     ]
    }
   ],
   "source": [
    "#Write a Python program to get the Fibonacci series between 0 to 50\n",
    "\n",
    "print(\"Fibonacci series between 0 to 50 is given below :\")\n",
    "nth = 0\n",
    "n1 = 0\n",
    "n2 = 1\n",
    "while n1<50:\n",
    "    nth = n1+n2\n",
    "    n2 = n1\n",
    "    n1 = nth\n",
    "    if n1>=50:\n",
    "        break\n",
    "    print(n1, end=\" \")"
   ]
  },
  {
   "cell_type": "code",
   "execution_count": 28,
   "id": "3797e798",
   "metadata": {},
   "outputs": [
    {
     "name": "stdout",
     "output_type": "stream",
     "text": [
      "Enter the word : Edyoda\n",
      "The reverse of word Edyoda is : adoydE\n"
     ]
    }
   ],
   "source": [
    "#Write a Python program that accepts a word from the user and reverse it.\n",
    "\n",
    "x = input(\"Enter the word : \")\n",
    "\n",
    "str =''\n",
    "for c in x:\n",
    "    str = c + str\n",
    "\n",
    "print(\"The reverse of word \"+x+\" is : \"+ str)"
   ]
  },
  {
   "cell_type": "code",
   "execution_count": 55,
   "id": "829d7ee1",
   "metadata": {},
   "outputs": [
    {
     "name": "stdout",
     "output_type": "stream",
     "text": [
      "Enter the number of elements in the series : 9\n",
      "Enter the elements in the series : \n",
      "1\n",
      "2\n",
      "3\n",
      "4\n",
      "5\n",
      "6\n",
      "7\n",
      "8\n",
      "9\n",
      "Number of even numbers : 4\n",
      "Number of odd number : 5\n"
     ]
    }
   ],
   "source": [
    "#Write a Python program to count the number of even and odd numbers from a series of numbers.\n",
    "\n",
    "n = int(input(\"Enter the number of elements in the series : \"))\n",
    "list = []\n",
    "print(\"Enter the elements in the series : \")\n",
    "for i in range(n):\n",
    "    elements = int(input())\n",
    "    list.append(elements)\n",
    "x = list\n",
    "count_even = 0 \n",
    "count_odd = 0\n",
    "for i in range(0,len(x)):\n",
    "    if x[i] % 2 ==0:\n",
    "        count_even+= 1\n",
    "    else:\n",
    "        count_odd+=1\n",
    "print(f\"Number of even numbers : {count_even}\")\n",
    "print(f\"Number of odd number : {count_odd}\")"
   ]
  },
  {
   "cell_type": "code",
   "execution_count": null,
   "id": "dc2a2857",
   "metadata": {},
   "outputs": [],
   "source": []
  }
 ],
 "metadata": {
  "kernelspec": {
   "display_name": "Python 3 (ipykernel)",
   "language": "python",
   "name": "python3"
  },
  "language_info": {
   "codemirror_mode": {
    "name": "ipython",
    "version": 3
   },
   "file_extension": ".py",
   "mimetype": "text/x-python",
   "name": "python",
   "nbconvert_exporter": "python",
   "pygments_lexer": "ipython3",
   "version": "3.9.12"
  }
 },
 "nbformat": 4,
 "nbformat_minor": 5
}
